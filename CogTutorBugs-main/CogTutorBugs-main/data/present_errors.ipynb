{
 "cells": [
  {
   "cell_type": "code",
   "execution_count": 1,
   "metadata": {},
   "outputs": [],
   "source": [
    "import pandas as pd\n",
    "from IPython.display import display, Markdown\n"
   ]
  },
  {
   "cell_type": "code",
   "execution_count": 2,
   "metadata": {},
   "outputs": [],
   "source": [
    "df = pd.read_json(\"bug_full_5339.json\")"
   ]
  },
  {
   "cell_type": "code",
   "execution_count": 3,
   "metadata": {},
   "outputs": [
    {
     "data": {
      "text/html": [
       "<div>\n",
       "<style scoped>\n",
       "    .dataframe tbody tr th:only-of-type {\n",
       "        vertical-align: middle;\n",
       "    }\n",
       "\n",
       "    .dataframe tbody tr th {\n",
       "        vertical-align: top;\n",
       "    }\n",
       "\n",
       "    .dataframe thead th {\n",
       "        text-align: right;\n",
       "    }\n",
       "</style>\n",
       "<table border=\"1\" class=\"dataframe\">\n",
       "  <thead>\n",
       "    <tr style=\"text-align: right;\">\n",
       "      <th></th>\n",
       "      <th>Unnamed: 0.1</th>\n",
       "      <th>Unnamed: 0</th>\n",
       "      <th>eq1</th>\n",
       "      <th>action</th>\n",
       "      <th>Input</th>\n",
       "      <th>eq2</th>\n",
       "      <th>Outcome</th>\n",
       "      <th>Previous Action</th>\n",
       "      <th>Feedback</th>\n",
       "      <th>Filtered Feedback</th>\n",
       "      <th>label</th>\n",
       "      <th>Label Name</th>\n",
       "    </tr>\n",
       "  </thead>\n",
       "  <tbody>\n",
       "    <tr>\n",
       "      <th>0</th>\n",
       "      <td>0</td>\n",
       "      <td>0</td>\n",
       "      <td>-6=3+y/9</td>\n",
       "      <td>DIV_SIDE</td>\n",
       "      <td>9</td>\n",
       "      <td>-6/9=3+y/9/9</td>\n",
       "      <td>BUG</td>\n",
       "      <td>None</td>\n",
       "      <td>To remove the coefficient of &lt;expression&gt;y/9&lt;/...</td>\n",
       "      <td>To remove the coefficient of , you need to div...</td>\n",
       "      <td>10</td>\n",
       "      <td>DIVIDE_TO_SIMPLIFY</td>\n",
       "    </tr>\n",
       "    <tr>\n",
       "      <th>1</th>\n",
       "      <td>1</td>\n",
       "      <td>8</td>\n",
       "      <td>-9=y/9</td>\n",
       "      <td>DIV_SIDE</td>\n",
       "      <td>9</td>\n",
       "      <td>-9/9=y/9/9</td>\n",
       "      <td>BUG</td>\n",
       "      <td>None</td>\n",
       "      <td>To remove the coefficient of &lt;expression&gt;y/9&lt;/...</td>\n",
       "      <td>To remove the coefficient of , you need to div...</td>\n",
       "      <td>10</td>\n",
       "      <td>DIVIDE_TO_SIMPLIFY</td>\n",
       "    </tr>\n",
       "    <tr>\n",
       "      <th>2</th>\n",
       "      <td>2</td>\n",
       "      <td>18</td>\n",
       "      <td>-7=-x</td>\n",
       "      <td>DIV_SIDE</td>\n",
       "      <td>1</td>\n",
       "      <td>-7/1=-x/1</td>\n",
       "      <td>BUG</td>\n",
       "      <td>None</td>\n",
       "      <td>In this equation, x is multiplied by &lt;expressi...</td>\n",
       "      <td>In this equation, x is multiplied by . Dividin...</td>\n",
       "      <td>14</td>\n",
       "      <td>DIVIDE_NEGATIVE_BETTER</td>\n",
       "    </tr>\n",
       "    <tr>\n",
       "      <th>3</th>\n",
       "      <td>3</td>\n",
       "      <td>30</td>\n",
       "      <td>x=4/-4</td>\n",
       "      <td>COMBINE_MUL</td>\n",
       "      <td>1</td>\n",
       "      <td>x=1</td>\n",
       "      <td>BUG</td>\n",
       "      <td>divide</td>\n",
       "      <td>You are dividing a positive by a negative.  Th...</td>\n",
       "      <td>You are dividing a positive by a negative.  Th...</td>\n",
       "      <td>9</td>\n",
       "      <td>DIVIDE_MULTIPLY_OPP_SIGNS</td>\n",
       "    </tr>\n",
       "    <tr>\n",
       "      <th>4</th>\n",
       "      <td>4</td>\n",
       "      <td>52</td>\n",
       "      <td>-45x=-10</td>\n",
       "      <td>DIV_SIDE</td>\n",
       "      <td>45</td>\n",
       "      <td>-45x/45=-10/45</td>\n",
       "      <td>BUG</td>\n",
       "      <td>None</td>\n",
       "      <td>In this equation, x is multiplied by &lt;expressi...</td>\n",
       "      <td>In this equation, x is multiplied by . Dividin...</td>\n",
       "      <td>14</td>\n",
       "      <td>DIVIDE_NEGATIVE_BETTER</td>\n",
       "    </tr>\n",
       "  </tbody>\n",
       "</table>\n",
       "</div>"
      ],
      "text/plain": [
       "   Unnamed: 0.1  Unnamed: 0       eq1       action Input             eq2  \\\n",
       "0             0           0  -6=3+y/9     DIV_SIDE     9    -6/9=3+y/9/9   \n",
       "1             1           8    -9=y/9     DIV_SIDE     9      -9/9=y/9/9   \n",
       "2             2          18     -7=-x     DIV_SIDE     1       -7/1=-x/1   \n",
       "3             3          30    x=4/-4  COMBINE_MUL     1             x=1   \n",
       "4             4          52  -45x=-10     DIV_SIDE    45  -45x/45=-10/45   \n",
       "\n",
       "  Outcome Previous Action                                           Feedback  \\\n",
       "0     BUG            None  To remove the coefficient of <expression>y/9</...   \n",
       "1     BUG            None  To remove the coefficient of <expression>y/9</...   \n",
       "2     BUG            None  In this equation, x is multiplied by <expressi...   \n",
       "3     BUG          divide  You are dividing a positive by a negative.  Th...   \n",
       "4     BUG            None  In this equation, x is multiplied by <expressi...   \n",
       "\n",
       "                                   Filtered Feedback  label  \\\n",
       "0  To remove the coefficient of , you need to div...     10   \n",
       "1  To remove the coefficient of , you need to div...     10   \n",
       "2  In this equation, x is multiplied by . Dividin...     14   \n",
       "3  You are dividing a positive by a negative.  Th...      9   \n",
       "4  In this equation, x is multiplied by . Dividin...     14   \n",
       "\n",
       "                  Label Name  \n",
       "0         DIVIDE_TO_SIMPLIFY  \n",
       "1         DIVIDE_TO_SIMPLIFY  \n",
       "2     DIVIDE_NEGATIVE_BETTER  \n",
       "3  DIVIDE_MULTIPLY_OPP_SIGNS  \n",
       "4     DIVIDE_NEGATIVE_BETTER  "
      ]
     },
     "execution_count": 3,
     "metadata": {},
     "output_type": "execute_result"
    }
   ],
   "source": [
    "df.head()"
   ]
  },
  {
   "cell_type": "code",
   "execution_count": 7,
   "metadata": {},
   "outputs": [
    {
     "data": {
      "text/plain": [
       "'You are dividing a positive by a negative.  The result should be negative.'"
      ]
     },
     "execution_count": 7,
     "metadata": {},
     "output_type": "execute_result"
    }
   ],
   "source": [
    "df.iloc[3]['Filtered Feedback']"
   ]
  },
  {
   "cell_type": "code",
   "execution_count": 4,
   "metadata": {},
   "outputs": [],
   "source": [
    "# Display all unique label names\n",
    "unique_labels = df['Label Name'].unique()"
   ]
  },
  {
   "cell_type": "code",
   "execution_count": 5,
   "metadata": {},
   "outputs": [
    {
     "data": {
      "text/plain": [
       "array(['DIVIDE_TO_SIMPLIFY', 'DIVIDE_NEGATIVE_BETTER',\n",
       "       'DIVIDE_MULTIPLY_OPP_SIGNS', 'WRONG_OPERATION', 'REVERSED_SIDES',\n",
       "       'CHECK_SIGN', 'SIMPLIFY_LATER', 'FORGOT_NEGATIVE',\n",
       "       'FORGOT_VARIABLE', 'FOCUS_ON_VARIABLE',\n",
       "       'REMOVE_VARIABLE_DENOMINATOR', 'SIMPLIFY_FRACTION',\n",
       "       'COMBINE_LIKE_TERMS', 'SUBTRACT_TO_REMOVE', 'ISOLATE_HINT',\n",
       "       'EXPRESSION_NOT_EQUIVALENT', 'ADD_TO_REMOVE', 'DIVIDE_TO_ISOLATE',\n",
       "       'MULTIPLY_TO_SIMPLIFY'], dtype=object)"
      ]
     },
     "execution_count": 5,
     "metadata": {},
     "output_type": "execute_result"
    }
   ],
   "source": [
    "unique_labels"
   ]
  },
  {
   "cell_type": "code",
   "execution_count": 6,
   "metadata": {},
   "outputs": [
    {
     "data": {
      "text/plain": [
       "19"
      ]
     },
     "execution_count": 6,
     "metadata": {},
     "output_type": "execute_result"
    }
   ],
   "source": [
    "len(unique_labels)"
   ]
  },
  {
   "cell_type": "code",
   "execution_count": 19,
   "metadata": {},
   "outputs": [
    {
     "data": {
      "text/markdown": [
       "### Label Name: DIVIDE_TO_SIMPLIFY"
      ],
      "text/plain": [
       "<IPython.core.display.Markdown object>"
      ]
     },
     "metadata": {},
     "output_type": "display_data"
    },
    {
     "data": {
      "text/html": [
       "<div>\n",
       "<style scoped>\n",
       "    .dataframe tbody tr th:only-of-type {\n",
       "        vertical-align: middle;\n",
       "    }\n",
       "\n",
       "    .dataframe tbody tr th {\n",
       "        vertical-align: top;\n",
       "    }\n",
       "\n",
       "    .dataframe thead th {\n",
       "        text-align: right;\n",
       "    }\n",
       "</style>\n",
       "<table border=\"1\" class=\"dataframe\">\n",
       "  <thead>\n",
       "    <tr style=\"text-align: right;\">\n",
       "      <th></th>\n",
       "      <th>eq1</th>\n",
       "      <th>action</th>\n",
       "      <th>Feedback</th>\n",
       "      <th>eq2</th>\n",
       "    </tr>\n",
       "  </thead>\n",
       "  <tbody>\n",
       "    <tr>\n",
       "      <th>0</th>\n",
       "      <td>-6=3+y/9</td>\n",
       "      <td>DIV_SIDE</td>\n",
       "      <td>To remove the coefficient of &lt;expression&gt;y/9&lt;/...</td>\n",
       "      <td>-6/9=3+y/9/9</td>\n",
       "    </tr>\n",
       "    <tr>\n",
       "      <th>1</th>\n",
       "      <td>-9=y/9</td>\n",
       "      <td>DIV_SIDE</td>\n",
       "      <td>To remove the coefficient of &lt;expression&gt;y/9&lt;/...</td>\n",
       "      <td>-9/9=y/9/9</td>\n",
       "    </tr>\n",
       "    <tr>\n",
       "      <th>13</th>\n",
       "      <td>x/8=-5</td>\n",
       "      <td>DIV_SIDE</td>\n",
       "      <td>To remove the coefficient of &lt;expression&gt;x/8&lt;/...</td>\n",
       "      <td>x/8/8=-5/8</td>\n",
       "    </tr>\n",
       "  </tbody>\n",
       "</table>\n",
       "</div>"
      ],
      "text/plain": [
       "         eq1    action                                           Feedback  \\\n",
       "0   -6=3+y/9  DIV_SIDE  To remove the coefficient of <expression>y/9</...   \n",
       "1     -9=y/9  DIV_SIDE  To remove the coefficient of <expression>y/9</...   \n",
       "13    x/8=-5  DIV_SIDE  To remove the coefficient of <expression>x/8</...   \n",
       "\n",
       "             eq2  \n",
       "0   -6/9=3+y/9/9  \n",
       "1     -9/9=y/9/9  \n",
       "13    x/8/8=-5/8  "
      ]
     },
     "metadata": {},
     "output_type": "display_data"
    },
    {
     "data": {
      "text/markdown": [
       "---"
      ],
      "text/plain": [
       "<IPython.core.display.Markdown object>"
      ]
     },
     "metadata": {},
     "output_type": "display_data"
    },
    {
     "data": {
      "text/markdown": [
       "### Label Name: DIVIDE_NEGATIVE_BETTER"
      ],
      "text/plain": [
       "<IPython.core.display.Markdown object>"
      ]
     },
     "metadata": {},
     "output_type": "display_data"
    },
    {
     "data": {
      "text/html": [
       "<div>\n",
       "<style scoped>\n",
       "    .dataframe tbody tr th:only-of-type {\n",
       "        vertical-align: middle;\n",
       "    }\n",
       "\n",
       "    .dataframe tbody tr th {\n",
       "        vertical-align: top;\n",
       "    }\n",
       "\n",
       "    .dataframe thead th {\n",
       "        text-align: right;\n",
       "    }\n",
       "</style>\n",
       "<table border=\"1\" class=\"dataframe\">\n",
       "  <thead>\n",
       "    <tr style=\"text-align: right;\">\n",
       "      <th></th>\n",
       "      <th>eq1</th>\n",
       "      <th>action</th>\n",
       "      <th>Feedback</th>\n",
       "      <th>eq2</th>\n",
       "    </tr>\n",
       "  </thead>\n",
       "  <tbody>\n",
       "    <tr>\n",
       "      <th>2</th>\n",
       "      <td>-7=-x</td>\n",
       "      <td>DIV_SIDE</td>\n",
       "      <td>In this equation, x is multiplied by &lt;expressi...</td>\n",
       "      <td>-7/1=-x/1</td>\n",
       "    </tr>\n",
       "    <tr>\n",
       "      <th>4</th>\n",
       "      <td>-45x=-10</td>\n",
       "      <td>DIV_SIDE</td>\n",
       "      <td>In this equation, x is multiplied by &lt;expressi...</td>\n",
       "      <td>-45x/45=-10/45</td>\n",
       "    </tr>\n",
       "    <tr>\n",
       "      <th>8</th>\n",
       "      <td>-3.5y=-6</td>\n",
       "      <td>DIV_SIDE</td>\n",
       "      <td>In this equation, y is multiplied by &lt;expressi...</td>\n",
       "      <td>-3.5y/3.5=-6/3.5</td>\n",
       "    </tr>\n",
       "  </tbody>\n",
       "</table>\n",
       "</div>"
      ],
      "text/plain": [
       "        eq1    action                                           Feedback  \\\n",
       "2     -7=-x  DIV_SIDE  In this equation, x is multiplied by <expressi...   \n",
       "4  -45x=-10  DIV_SIDE  In this equation, x is multiplied by <expressi...   \n",
       "8  -3.5y=-6  DIV_SIDE  In this equation, y is multiplied by <expressi...   \n",
       "\n",
       "                eq2  \n",
       "2         -7/1=-x/1  \n",
       "4    -45x/45=-10/45  \n",
       "8  -3.5y/3.5=-6/3.5  "
      ]
     },
     "metadata": {},
     "output_type": "display_data"
    },
    {
     "data": {
      "text/markdown": [
       "---"
      ],
      "text/plain": [
       "<IPython.core.display.Markdown object>"
      ]
     },
     "metadata": {},
     "output_type": "display_data"
    },
    {
     "data": {
      "text/markdown": [
       "### Label Name: DIVIDE_MULTIPLY_OPP_SIGNS"
      ],
      "text/plain": [
       "<IPython.core.display.Markdown object>"
      ]
     },
     "metadata": {},
     "output_type": "display_data"
    },
    {
     "data": {
      "text/html": [
       "<div>\n",
       "<style scoped>\n",
       "    .dataframe tbody tr th:only-of-type {\n",
       "        vertical-align: middle;\n",
       "    }\n",
       "\n",
       "    .dataframe tbody tr th {\n",
       "        vertical-align: top;\n",
       "    }\n",
       "\n",
       "    .dataframe thead th {\n",
       "        text-align: right;\n",
       "    }\n",
       "</style>\n",
       "<table border=\"1\" class=\"dataframe\">\n",
       "  <thead>\n",
       "    <tr style=\"text-align: right;\">\n",
       "      <th></th>\n",
       "      <th>eq1</th>\n",
       "      <th>action</th>\n",
       "      <th>Feedback</th>\n",
       "      <th>eq2</th>\n",
       "    </tr>\n",
       "  </thead>\n",
       "  <tbody>\n",
       "    <tr>\n",
       "      <th>3</th>\n",
       "      <td>x=4/-4</td>\n",
       "      <td>COMBINE_MUL</td>\n",
       "      <td>You are dividing a positive by a negative.  Th...</td>\n",
       "      <td>x=1</td>\n",
       "    </tr>\n",
       "    <tr>\n",
       "      <th>16</th>\n",
       "      <td>-28/3=3y/3</td>\n",
       "      <td>COMBINE_MUL</td>\n",
       "      <td>You are dividing a negative by a positive.  Th...</td>\n",
       "      <td>9.333=3y/3</td>\n",
       "    </tr>\n",
       "    <tr>\n",
       "      <th>18</th>\n",
       "      <td>x=-966.48/14.8</td>\n",
       "      <td>COMBINE_MUL</td>\n",
       "      <td>You are dividing a negative by a positive.  Th...</td>\n",
       "      <td>x=65.302</td>\n",
       "    </tr>\n",
       "  </tbody>\n",
       "</table>\n",
       "</div>"
      ],
      "text/plain": [
       "               eq1       action  \\\n",
       "3           x=4/-4  COMBINE_MUL   \n",
       "16      -28/3=3y/3  COMBINE_MUL   \n",
       "18  x=-966.48/14.8  COMBINE_MUL   \n",
       "\n",
       "                                             Feedback         eq2  \n",
       "3   You are dividing a positive by a negative.  Th...         x=1  \n",
       "16  You are dividing a negative by a positive.  Th...  9.333=3y/3  \n",
       "18  You are dividing a negative by a positive.  Th...    x=65.302  "
      ]
     },
     "metadata": {},
     "output_type": "display_data"
    },
    {
     "data": {
      "text/markdown": [
       "---"
      ],
      "text/plain": [
       "<IPython.core.display.Markdown object>"
      ]
     },
     "metadata": {},
     "output_type": "display_data"
    },
    {
     "data": {
      "text/markdown": [
       "### Label Name: WRONG_OPERATION"
      ],
      "text/plain": [
       "<IPython.core.display.Markdown object>"
      ]
     },
     "metadata": {},
     "output_type": "display_data"
    },
    {
     "data": {
      "text/html": [
       "<div>\n",
       "<style scoped>\n",
       "    .dataframe tbody tr th:only-of-type {\n",
       "        vertical-align: middle;\n",
       "    }\n",
       "\n",
       "    .dataframe tbody tr th {\n",
       "        vertical-align: top;\n",
       "    }\n",
       "\n",
       "    .dataframe thead th {\n",
       "        text-align: right;\n",
       "    }\n",
       "</style>\n",
       "<table border=\"1\" class=\"dataframe\">\n",
       "  <thead>\n",
       "    <tr style=\"text-align: right;\">\n",
       "      <th></th>\n",
       "      <th>eq1</th>\n",
       "      <th>action</th>\n",
       "      <th>Feedback</th>\n",
       "      <th>eq2</th>\n",
       "    </tr>\n",
       "  </thead>\n",
       "  <tbody>\n",
       "    <tr>\n",
       "      <th>5</th>\n",
       "      <td>49+16=23x+16x-16+16</td>\n",
       "      <td>COMBINE_ADD</td>\n",
       "      <td>&lt;expression&gt;33&lt;/expression&gt; is equal to &lt;expre...</td>\n",
       "      <td>33=23x+16x-16+16</td>\n",
       "    </tr>\n",
       "    <tr>\n",
       "      <th>23</th>\n",
       "      <td>-158x+546-546=-17-546</td>\n",
       "      <td>COMBINE_ADD</td>\n",
       "      <td>&lt;expression&gt;529&lt;/expression&gt; is equal to &lt;expr...</td>\n",
       "      <td>-158x+546-546=529</td>\n",
       "    </tr>\n",
       "    <tr>\n",
       "      <th>329</th>\n",
       "      <td>3+(-y/5)-3=-7-3</td>\n",
       "      <td>COMBINE_ADD</td>\n",
       "      <td>&lt;expression&gt;-4&lt;/expression&gt; is equal to &lt;expre...</td>\n",
       "      <td>-4=-7-3</td>\n",
       "    </tr>\n",
       "  </tbody>\n",
       "</table>\n",
       "</div>"
      ],
      "text/plain": [
       "                       eq1       action  \\\n",
       "5      49+16=23x+16x-16+16  COMBINE_ADD   \n",
       "23   -158x+546-546=-17-546  COMBINE_ADD   \n",
       "329        3+(-y/5)-3=-7-3  COMBINE_ADD   \n",
       "\n",
       "                                              Feedback                eq2  \n",
       "5    <expression>33</expression> is equal to <expre...   33=23x+16x-16+16  \n",
       "23   <expression>529</expression> is equal to <expr...  -158x+546-546=529  \n",
       "329  <expression>-4</expression> is equal to <expre...            -4=-7-3  "
      ]
     },
     "metadata": {},
     "output_type": "display_data"
    },
    {
     "data": {
      "text/markdown": [
       "---"
      ],
      "text/plain": [
       "<IPython.core.display.Markdown object>"
      ]
     },
     "metadata": {},
     "output_type": "display_data"
    },
    {
     "data": {
      "text/markdown": [
       "### Label Name: REVERSED_SIDES"
      ],
      "text/plain": [
       "<IPython.core.display.Markdown object>"
      ]
     },
     "metadata": {},
     "output_type": "display_data"
    },
    {
     "data": {
      "text/html": [
       "<div>\n",
       "<style scoped>\n",
       "    .dataframe tbody tr th:only-of-type {\n",
       "        vertical-align: middle;\n",
       "    }\n",
       "\n",
       "    .dataframe tbody tr th {\n",
       "        vertical-align: top;\n",
       "    }\n",
       "\n",
       "    .dataframe thead th {\n",
       "        text-align: right;\n",
       "    }\n",
       "</style>\n",
       "<table border=\"1\" class=\"dataframe\">\n",
       "  <thead>\n",
       "    <tr style=\"text-align: right;\">\n",
       "      <th></th>\n",
       "      <th>eq1</th>\n",
       "      <th>action</th>\n",
       "      <th>Feedback</th>\n",
       "      <th>eq2</th>\n",
       "    </tr>\n",
       "  </thead>\n",
       "  <tbody>\n",
       "    <tr>\n",
       "      <th>6</th>\n",
       "      <td>-38-36=-x-12x+36-36</td>\n",
       "      <td>COMBINE_ADD</td>\n",
       "      <td>&lt;expression&gt;38-36&lt;/expression&gt; is equal to &lt;ex...</td>\n",
       "      <td>38-36=-x-12x+36-36</td>\n",
       "    </tr>\n",
       "    <tr>\n",
       "      <th>15</th>\n",
       "      <td>y-4y=9</td>\n",
       "      <td>COMBINE_ADD</td>\n",
       "      <td>You need to calculate &lt;expression&gt;8&lt;/expressio...</td>\n",
       "      <td>y-4y=-9</td>\n",
       "    </tr>\n",
       "    <tr>\n",
       "      <th>17</th>\n",
       "      <td>6.2y=1.1-47.74</td>\n",
       "      <td>COMBINE_ADD</td>\n",
       "      <td>You need to calculate &lt;expression&gt;1.1&lt;/express...</td>\n",
       "      <td>6.2y=46.64</td>\n",
       "    </tr>\n",
       "  </tbody>\n",
       "</table>\n",
       "</div>"
      ],
      "text/plain": [
       "                    eq1       action  \\\n",
       "6   -38-36=-x-12x+36-36  COMBINE_ADD   \n",
       "15               y-4y=9  COMBINE_ADD   \n",
       "17       6.2y=1.1-47.74  COMBINE_ADD   \n",
       "\n",
       "                                             Feedback                 eq2  \n",
       "6   <expression>38-36</expression> is equal to <ex...  38-36=-x-12x+36-36  \n",
       "15  You need to calculate <expression>8</expressio...             y-4y=-9  \n",
       "17  You need to calculate <expression>1.1</express...          6.2y=46.64  "
      ]
     },
     "metadata": {},
     "output_type": "display_data"
    },
    {
     "data": {
      "text/markdown": [
       "---"
      ],
      "text/plain": [
       "<IPython.core.display.Markdown object>"
      ]
     },
     "metadata": {},
     "output_type": "display_data"
    },
    {
     "data": {
      "text/markdown": [
       "### Label Name: CHECK_SIGN"
      ],
      "text/plain": [
       "<IPython.core.display.Markdown object>"
      ]
     },
     "metadata": {},
     "output_type": "display_data"
    },
    {
     "data": {
      "text/html": [
       "<div>\n",
       "<style scoped>\n",
       "    .dataframe tbody tr th:only-of-type {\n",
       "        vertical-align: middle;\n",
       "    }\n",
       "\n",
       "    .dataframe tbody tr th {\n",
       "        vertical-align: top;\n",
       "    }\n",
       "\n",
       "    .dataframe thead th {\n",
       "        text-align: right;\n",
       "    }\n",
       "</style>\n",
       "<table border=\"1\" class=\"dataframe\">\n",
       "  <thead>\n",
       "    <tr style=\"text-align: right;\">\n",
       "      <th></th>\n",
       "      <th>eq1</th>\n",
       "      <th>action</th>\n",
       "      <th>Feedback</th>\n",
       "      <th>eq2</th>\n",
       "    </tr>\n",
       "  </thead>\n",
       "  <tbody>\n",
       "    <tr>\n",
       "      <th>7</th>\n",
       "      <td>-38-36=-x-12x</td>\n",
       "      <td>COMBINE_ADD</td>\n",
       "      <td>&lt;b&gt;74&lt;/b&gt;&lt;hr&gt;Check your sign.</td>\n",
       "      <td>74=-x-12x</td>\n",
       "    </tr>\n",
       "    <tr>\n",
       "      <th>11</th>\n",
       "      <td>-32.7y+21.9y=39.8</td>\n",
       "      <td>COMBINE_ADD</td>\n",
       "      <td>&lt;b&gt;10.8y&lt;/b&gt;&lt;hr&gt;Check your sign.</td>\n",
       "      <td>10.8y=39.8</td>\n",
       "    </tr>\n",
       "    <tr>\n",
       "      <th>88</th>\n",
       "      <td>-5+10=-10+y+10</td>\n",
       "      <td>COMBINE_ADD</td>\n",
       "      <td>The result should be positive.</td>\n",
       "      <td>-5=-10+y+10</td>\n",
       "    </tr>\n",
       "  </tbody>\n",
       "</table>\n",
       "</div>"
      ],
      "text/plain": [
       "                  eq1       action                          Feedback  \\\n",
       "7       -38-36=-x-12x  COMBINE_ADD     <b>74</b><hr>Check your sign.   \n",
       "11  -32.7y+21.9y=39.8  COMBINE_ADD  <b>10.8y</b><hr>Check your sign.   \n",
       "88     -5+10=-10+y+10  COMBINE_ADD    The result should be positive.   \n",
       "\n",
       "            eq2  \n",
       "7     74=-x-12x  \n",
       "11   10.8y=39.8  \n",
       "88  -5=-10+y+10  "
      ]
     },
     "metadata": {},
     "output_type": "display_data"
    },
    {
     "data": {
      "text/markdown": [
       "---"
      ],
      "text/plain": [
       "<IPython.core.display.Markdown object>"
      ]
     },
     "metadata": {},
     "output_type": "display_data"
    },
    {
     "data": {
      "text/markdown": [
       "### Label Name: SIMPLIFY_LATER"
      ],
      "text/plain": [
       "<IPython.core.display.Markdown object>"
      ]
     },
     "metadata": {},
     "output_type": "display_data"
    },
    {
     "data": {
      "text/html": [
       "<div>\n",
       "<style scoped>\n",
       "    .dataframe tbody tr th:only-of-type {\n",
       "        vertical-align: middle;\n",
       "    }\n",
       "\n",
       "    .dataframe tbody tr th {\n",
       "        vertical-align: top;\n",
       "    }\n",
       "\n",
       "    .dataframe thead th {\n",
       "        text-align: right;\n",
       "    }\n",
       "</style>\n",
       "<table border=\"1\" class=\"dataframe\">\n",
       "  <thead>\n",
       "    <tr style=\"text-align: right;\">\n",
       "      <th></th>\n",
       "      <th>eq1</th>\n",
       "      <th>action</th>\n",
       "      <th>Feedback</th>\n",
       "      <th>eq2</th>\n",
       "    </tr>\n",
       "  </thead>\n",
       "  <tbody>\n",
       "    <tr>\n",
       "      <th>10</th>\n",
       "      <td>-32.7y+21.9y-44.9+44.9=-5.1+44.9</td>\n",
       "      <td>COMBINE_ADD</td>\n",
       "      <td>Just add &lt;expression&gt;-32.7y+21.9y-44.9&lt;/expres...</td>\n",
       "      <td>-10.8y=-5.1+44.9</td>\n",
       "    </tr>\n",
       "    <tr>\n",
       "      <th>12</th>\n",
       "      <td>27.2/-47.7=(-48.7y+y)/-47.7</td>\n",
       "      <td>COMBINE_MUL</td>\n",
       "      <td>Just divide &lt;expression&gt;-48.7y+y&lt;/expression&gt; ...</td>\n",
       "      <td>27.2/-47.7=y</td>\n",
       "    </tr>\n",
       "    <tr>\n",
       "      <th>85</th>\n",
       "      <td>-5=(2+(y/-5))*-5</td>\n",
       "      <td>COMBINE_MUL</td>\n",
       "      <td>Just multiply &lt;expression&gt;1&lt;/expression&gt; by &lt;e...</td>\n",
       "      <td>-5=-5</td>\n",
       "    </tr>\n",
       "  </tbody>\n",
       "</table>\n",
       "</div>"
      ],
      "text/plain": [
       "                                 eq1       action  \\\n",
       "10  -32.7y+21.9y-44.9+44.9=-5.1+44.9  COMBINE_ADD   \n",
       "12       27.2/-47.7=(-48.7y+y)/-47.7  COMBINE_MUL   \n",
       "85                  -5=(2+(y/-5))*-5  COMBINE_MUL   \n",
       "\n",
       "                                             Feedback               eq2  \n",
       "10  Just add <expression>-32.7y+21.9y-44.9</expres...  -10.8y=-5.1+44.9  \n",
       "12  Just divide <expression>-48.7y+y</expression> ...      27.2/-47.7=y  \n",
       "85  Just multiply <expression>1</expression> by <e...             -5=-5  "
      ]
     },
     "metadata": {},
     "output_type": "display_data"
    },
    {
     "data": {
      "text/markdown": [
       "---"
      ],
      "text/plain": [
       "<IPython.core.display.Markdown object>"
      ]
     },
     "metadata": {},
     "output_type": "display_data"
    },
    {
     "data": {
      "text/markdown": [
       "### Label Name: FORGOT_NEGATIVE"
      ],
      "text/plain": [
       "<IPython.core.display.Markdown object>"
      ]
     },
     "metadata": {},
     "output_type": "display_data"
    },
    {
     "data": {
      "text/html": [
       "<div>\n",
       "<style scoped>\n",
       "    .dataframe tbody tr th:only-of-type {\n",
       "        vertical-align: middle;\n",
       "    }\n",
       "\n",
       "    .dataframe tbody tr th {\n",
       "        vertical-align: top;\n",
       "    }\n",
       "\n",
       "    .dataframe thead th {\n",
       "        text-align: right;\n",
       "    }\n",
       "</style>\n",
       "<table border=\"1\" class=\"dataframe\">\n",
       "  <thead>\n",
       "    <tr style=\"text-align: right;\">\n",
       "      <th></th>\n",
       "      <th>eq1</th>\n",
       "      <th>action</th>\n",
       "      <th>Feedback</th>\n",
       "      <th>eq2</th>\n",
       "    </tr>\n",
       "  </thead>\n",
       "  <tbody>\n",
       "    <tr>\n",
       "      <th>14</th>\n",
       "      <td>-10y=4</td>\n",
       "      <td>COMBINE_ADD</td>\n",
       "      <td>You forgot the negative sign.</td>\n",
       "      <td>10y=4</td>\n",
       "    </tr>\n",
       "    <tr>\n",
       "      <th>21</th>\n",
       "      <td>339=-6x+18-18</td>\n",
       "      <td>COMBINE_ADD</td>\n",
       "      <td>You forgot the negative sign.</td>\n",
       "      <td>339=6x</td>\n",
       "    </tr>\n",
       "    <tr>\n",
       "      <th>153</th>\n",
       "      <td>-5y-30+30=-31+30</td>\n",
       "      <td>COMBINE_ADD</td>\n",
       "      <td>You forgot the negative sign.</td>\n",
       "      <td>5y=-31+30</td>\n",
       "    </tr>\n",
       "  </tbody>\n",
       "</table>\n",
       "</div>"
      ],
      "text/plain": [
       "                  eq1       action                       Feedback        eq2\n",
       "14             -10y=4  COMBINE_ADD  You forgot the negative sign.      10y=4\n",
       "21      339=-6x+18-18  COMBINE_ADD  You forgot the negative sign.     339=6x\n",
       "153  -5y-30+30=-31+30  COMBINE_ADD  You forgot the negative sign.  5y=-31+30"
      ]
     },
     "metadata": {},
     "output_type": "display_data"
    },
    {
     "data": {
      "text/markdown": [
       "---"
      ],
      "text/plain": [
       "<IPython.core.display.Markdown object>"
      ]
     },
     "metadata": {},
     "output_type": "display_data"
    },
    {
     "data": {
      "text/markdown": [
       "### Label Name: FORGOT_VARIABLE"
      ],
      "text/plain": [
       "<IPython.core.display.Markdown object>"
      ]
     },
     "metadata": {},
     "output_type": "display_data"
    },
    {
     "data": {
      "text/html": [
       "<div>\n",
       "<style scoped>\n",
       "    .dataframe tbody tr th:only-of-type {\n",
       "        vertical-align: middle;\n",
       "    }\n",
       "\n",
       "    .dataframe tbody tr th {\n",
       "        vertical-align: top;\n",
       "    }\n",
       "\n",
       "    .dataframe thead th {\n",
       "        text-align: right;\n",
       "    }\n",
       "</style>\n",
       "<table border=\"1\" class=\"dataframe\">\n",
       "  <thead>\n",
       "    <tr style=\"text-align: right;\">\n",
       "      <th></th>\n",
       "      <th>eq1</th>\n",
       "      <th>action</th>\n",
       "      <th>Feedback</th>\n",
       "      <th>eq2</th>\n",
       "    </tr>\n",
       "  </thead>\n",
       "  <tbody>\n",
       "    <tr>\n",
       "      <th>26</th>\n",
       "      <td>1.93x-1.35+1.35=7.31+1.35</td>\n",
       "      <td>COMBINE_ADD</td>\n",
       "      <td>You forgot the x.</td>\n",
       "      <td>1.93=7.31+1.35</td>\n",
       "    </tr>\n",
       "    <tr>\n",
       "      <th>44</th>\n",
       "      <td>-5y+4-4=-2</td>\n",
       "      <td>COMBINE_ADD</td>\n",
       "      <td>You forgot the y.</td>\n",
       "      <td>-5=-2</td>\n",
       "    </tr>\n",
       "    <tr>\n",
       "      <th>118</th>\n",
       "      <td>-3-5=5+(-4x)-5</td>\n",
       "      <td>COMBINE_ADD</td>\n",
       "      <td>You forgot the x.</td>\n",
       "      <td>-3-5=-4</td>\n",
       "    </tr>\n",
       "  </tbody>\n",
       "</table>\n",
       "</div>"
      ],
      "text/plain": [
       "                           eq1       action           Feedback             eq2\n",
       "26   1.93x-1.35+1.35=7.31+1.35  COMBINE_ADD  You forgot the x.  1.93=7.31+1.35\n",
       "44                  -5y+4-4=-2  COMBINE_ADD  You forgot the y.           -5=-2\n",
       "118             -3-5=5+(-4x)-5  COMBINE_ADD  You forgot the x.         -3-5=-4"
      ]
     },
     "metadata": {},
     "output_type": "display_data"
    },
    {
     "data": {
      "text/markdown": [
       "---"
      ],
      "text/plain": [
       "<IPython.core.display.Markdown object>"
      ]
     },
     "metadata": {},
     "output_type": "display_data"
    },
    {
     "data": {
      "text/markdown": [
       "### Label Name: FOCUS_ON_VARIABLE"
      ],
      "text/plain": [
       "<IPython.core.display.Markdown object>"
      ]
     },
     "metadata": {},
     "output_type": "display_data"
    },
    {
     "data": {
      "text/html": [
       "<div>\n",
       "<style scoped>\n",
       "    .dataframe tbody tr th:only-of-type {\n",
       "        vertical-align: middle;\n",
       "    }\n",
       "\n",
       "    .dataframe tbody tr th {\n",
       "        vertical-align: top;\n",
       "    }\n",
       "\n",
       "    .dataframe thead th {\n",
       "        text-align: right;\n",
       "    }\n",
       "</style>\n",
       "<table border=\"1\" class=\"dataframe\">\n",
       "  <thead>\n",
       "    <tr style=\"text-align: right;\">\n",
       "      <th></th>\n",
       "      <th>eq1</th>\n",
       "      <th>action</th>\n",
       "      <th>Feedback</th>\n",
       "      <th>eq2</th>\n",
       "    </tr>\n",
       "  </thead>\n",
       "  <tbody>\n",
       "    <tr>\n",
       "      <th>27</th>\n",
       "      <td>x/-10=10</td>\n",
       "      <td>MUL_SIDE</td>\n",
       "      <td>Focus on the side of the equation with the var...</td>\n",
       "      <td>x/-10*10=10*10</td>\n",
       "    </tr>\n",
       "    <tr>\n",
       "      <th>36</th>\n",
       "      <td>9=-y</td>\n",
       "      <td>DIV_SIDE</td>\n",
       "      <td>Focus on the side of the equation with the var...</td>\n",
       "      <td>9/9=-y/9</td>\n",
       "    </tr>\n",
       "    <tr>\n",
       "      <th>37</th>\n",
       "      <td>9=-y</td>\n",
       "      <td>DIV_SIDE</td>\n",
       "      <td>Focus on the side of the equation with the var...</td>\n",
       "      <td>9/9=-y/9</td>\n",
       "    </tr>\n",
       "  </tbody>\n",
       "</table>\n",
       "</div>"
      ],
      "text/plain": [
       "         eq1    action                                           Feedback  \\\n",
       "27  x/-10=10  MUL_SIDE  Focus on the side of the equation with the var...   \n",
       "36      9=-y  DIV_SIDE  Focus on the side of the equation with the var...   \n",
       "37      9=-y  DIV_SIDE  Focus on the side of the equation with the var...   \n",
       "\n",
       "               eq2  \n",
       "27  x/-10*10=10*10  \n",
       "36        9/9=-y/9  \n",
       "37        9/9=-y/9  "
      ]
     },
     "metadata": {},
     "output_type": "display_data"
    },
    {
     "data": {
      "text/markdown": [
       "---"
      ],
      "text/plain": [
       "<IPython.core.display.Markdown object>"
      ]
     },
     "metadata": {},
     "output_type": "display_data"
    },
    {
     "data": {
      "text/markdown": [
       "### Label Name: REMOVE_VARIABLE_DENOMINATOR"
      ],
      "text/plain": [
       "<IPython.core.display.Markdown object>"
      ]
     },
     "metadata": {},
     "output_type": "display_data"
    },
    {
     "data": {
      "text/html": [
       "<div>\n",
       "<style scoped>\n",
       "    .dataframe tbody tr th:only-of-type {\n",
       "        vertical-align: middle;\n",
       "    }\n",
       "\n",
       "    .dataframe tbody tr th {\n",
       "        vertical-align: top;\n",
       "    }\n",
       "\n",
       "    .dataframe thead th {\n",
       "        text-align: right;\n",
       "    }\n",
       "</style>\n",
       "<table border=\"1\" class=\"dataframe\">\n",
       "  <thead>\n",
       "    <tr style=\"text-align: right;\">\n",
       "      <th></th>\n",
       "      <th>eq1</th>\n",
       "      <th>action</th>\n",
       "      <th>Feedback</th>\n",
       "      <th>eq2</th>\n",
       "    </tr>\n",
       "  </thead>\n",
       "  <tbody>\n",
       "    <tr>\n",
       "      <th>32</th>\n",
       "      <td>y/-4=1</td>\n",
       "      <td>MUL_SIDE</td>\n",
       "      <td>To remove the denominator of y you need to mul...</td>\n",
       "      <td>y/-4*1=1*1</td>\n",
       "    </tr>\n",
       "    <tr>\n",
       "      <th>108</th>\n",
       "      <td>-8/y=1</td>\n",
       "      <td>MUL_SIDE</td>\n",
       "      <td>To remove y from the denominator you need to m...</td>\n",
       "      <td>-8/y*-8=1*-8</td>\n",
       "    </tr>\n",
       "    <tr>\n",
       "      <th>323</th>\n",
       "      <td>y/2=1</td>\n",
       "      <td>MUL_SIDE</td>\n",
       "      <td>To remove the denominator of y you need to mul...</td>\n",
       "      <td>y/2*1=1*1</td>\n",
       "    </tr>\n",
       "  </tbody>\n",
       "</table>\n",
       "</div>"
      ],
      "text/plain": [
       "        eq1    action                                           Feedback  \\\n",
       "32   y/-4=1  MUL_SIDE  To remove the denominator of y you need to mul...   \n",
       "108  -8/y=1  MUL_SIDE  To remove y from the denominator you need to m...   \n",
       "323   y/2=1  MUL_SIDE  To remove the denominator of y you need to mul...   \n",
       "\n",
       "              eq2  \n",
       "32     y/-4*1=1*1  \n",
       "108  -8/y*-8=1*-8  \n",
       "323     y/2*1=1*1  "
      ]
     },
     "metadata": {},
     "output_type": "display_data"
    },
    {
     "data": {
      "text/markdown": [
       "---"
      ],
      "text/plain": [
       "<IPython.core.display.Markdown object>"
      ]
     },
     "metadata": {},
     "output_type": "display_data"
    },
    {
     "data": {
      "text/markdown": [
       "### Label Name: SIMPLIFY_FRACTION"
      ],
      "text/plain": [
       "<IPython.core.display.Markdown object>"
      ]
     },
     "metadata": {},
     "output_type": "display_data"
    },
    {
     "data": {
      "text/html": [
       "<div>\n",
       "<style scoped>\n",
       "    .dataframe tbody tr th:only-of-type {\n",
       "        vertical-align: middle;\n",
       "    }\n",
       "\n",
       "    .dataframe tbody tr th {\n",
       "        vertical-align: top;\n",
       "    }\n",
       "\n",
       "    .dataframe thead th {\n",
       "        text-align: right;\n",
       "    }\n",
       "</style>\n",
       "<table border=\"1\" class=\"dataframe\">\n",
       "  <thead>\n",
       "    <tr style=\"text-align: right;\">\n",
       "      <th></th>\n",
       "      <th>eq1</th>\n",
       "      <th>action</th>\n",
       "      <th>Feedback</th>\n",
       "      <th>eq2</th>\n",
       "    </tr>\n",
       "  </thead>\n",
       "  <tbody>\n",
       "    <tr>\n",
       "      <th>33</th>\n",
       "      <td>y/-4=1</td>\n",
       "      <td>MUL_SIDE</td>\n",
       "      <td>Simplify the fraction &lt;expression&gt;y/-4&lt;/expres...</td>\n",
       "      <td>y/-4*-1=1*-1</td>\n",
       "    </tr>\n",
       "    <tr>\n",
       "      <th>38</th>\n",
       "      <td>y=-9/-4</td>\n",
       "      <td>COMBINE_MUL</td>\n",
       "      <td>This fraction is not simplified.</td>\n",
       "      <td>y=-9/-4</td>\n",
       "    </tr>\n",
       "    <tr>\n",
       "      <th>46</th>\n",
       "      <td>y=-2/-5</td>\n",
       "      <td>COMBINE_MUL</td>\n",
       "      <td>This fraction is not simplified.</td>\n",
       "      <td>y=-2/-5</td>\n",
       "    </tr>\n",
       "  </tbody>\n",
       "</table>\n",
       "</div>"
      ],
      "text/plain": [
       "        eq1       action                                           Feedback  \\\n",
       "33   y/-4=1     MUL_SIDE  Simplify the fraction <expression>y/-4</expres...   \n",
       "38  y=-9/-4  COMBINE_MUL                   This fraction is not simplified.   \n",
       "46  y=-2/-5  COMBINE_MUL                   This fraction is not simplified.   \n",
       "\n",
       "             eq2  \n",
       "33  y/-4*-1=1*-1  \n",
       "38       y=-9/-4  \n",
       "46       y=-2/-5  "
      ]
     },
     "metadata": {},
     "output_type": "display_data"
    },
    {
     "data": {
      "text/markdown": [
       "---"
      ],
      "text/plain": [
       "<IPython.core.display.Markdown object>"
      ]
     },
     "metadata": {},
     "output_type": "display_data"
    },
    {
     "data": {
      "text/markdown": [
       "### Label Name: COMBINE_LIKE_TERMS"
      ],
      "text/plain": [
       "<IPython.core.display.Markdown object>"
      ]
     },
     "metadata": {},
     "output_type": "display_data"
    },
    {
     "data": {
      "text/html": [
       "<div>\n",
       "<style scoped>\n",
       "    .dataframe tbody tr th:only-of-type {\n",
       "        vertical-align: middle;\n",
       "    }\n",
       "\n",
       "    .dataframe tbody tr th {\n",
       "        vertical-align: top;\n",
       "    }\n",
       "\n",
       "    .dataframe thead th {\n",
       "        text-align: right;\n",
       "    }\n",
       "</style>\n",
       "<table border=\"1\" class=\"dataframe\">\n",
       "  <thead>\n",
       "    <tr style=\"text-align: right;\">\n",
       "      <th></th>\n",
       "      <th>eq1</th>\n",
       "      <th>action</th>\n",
       "      <th>Feedback</th>\n",
       "      <th>eq2</th>\n",
       "    </tr>\n",
       "  </thead>\n",
       "  <tbody>\n",
       "    <tr>\n",
       "      <th>40</th>\n",
       "      <td>-4y+(-9)+9=-4+9</td>\n",
       "      <td>ADD_SIDE</td>\n",
       "      <td>You can place the expression in a more simplif...</td>\n",
       "      <td>-4y+(-9)+9+4=-4+9+4</td>\n",
       "    </tr>\n",
       "    <tr>\n",
       "      <th>119</th>\n",
       "      <td>-3-5=-4x</td>\n",
       "      <td>ADD_SIDE</td>\n",
       "      <td>You can place the expression in a more simplif...</td>\n",
       "      <td>-3-5+3=-4x+3</td>\n",
       "    </tr>\n",
       "    <tr>\n",
       "      <th>120</th>\n",
       "      <td>-3-5=-4x</td>\n",
       "      <td>SUB_SIDE</td>\n",
       "      <td>You can place the expression in a more simplif...</td>\n",
       "      <td>-3-5-5=-4x-5</td>\n",
       "    </tr>\n",
       "  </tbody>\n",
       "</table>\n",
       "</div>"
      ],
      "text/plain": [
       "                 eq1    action  \\\n",
       "40   -4y+(-9)+9=-4+9  ADD_SIDE   \n",
       "119         -3-5=-4x  ADD_SIDE   \n",
       "120         -3-5=-4x  SUB_SIDE   \n",
       "\n",
       "                                              Feedback                  eq2  \n",
       "40   You can place the expression in a more simplif...  -4y+(-9)+9+4=-4+9+4  \n",
       "119  You can place the expression in a more simplif...         -3-5+3=-4x+3  \n",
       "120  You can place the expression in a more simplif...         -3-5-5=-4x-5  "
      ]
     },
     "metadata": {},
     "output_type": "display_data"
    },
    {
     "data": {
      "text/markdown": [
       "---"
      ],
      "text/plain": [
       "<IPython.core.display.Markdown object>"
      ]
     },
     "metadata": {},
     "output_type": "display_data"
    },
    {
     "data": {
      "text/markdown": [
       "### Label Name: SUBTRACT_TO_REMOVE"
      ],
      "text/plain": [
       "<IPython.core.display.Markdown object>"
      ]
     },
     "metadata": {},
     "output_type": "display_data"
    },
    {
     "data": {
      "text/html": [
       "<div>\n",
       "<style scoped>\n",
       "    .dataframe tbody tr th:only-of-type {\n",
       "        vertical-align: middle;\n",
       "    }\n",
       "\n",
       "    .dataframe tbody tr th {\n",
       "        vertical-align: top;\n",
       "    }\n",
       "\n",
       "    .dataframe thead th {\n",
       "        text-align: right;\n",
       "    }\n",
       "</style>\n",
       "<table border=\"1\" class=\"dataframe\">\n",
       "  <thead>\n",
       "    <tr style=\"text-align: right;\">\n",
       "      <th></th>\n",
       "      <th>eq1</th>\n",
       "      <th>action</th>\n",
       "      <th>Feedback</th>\n",
       "      <th>eq2</th>\n",
       "    </tr>\n",
       "  </thead>\n",
       "  <tbody>\n",
       "    <tr>\n",
       "      <th>41</th>\n",
       "      <td>3=-3x+5</td>\n",
       "      <td>ADD_SIDE</td>\n",
       "      <td>Since &lt;expression&gt;5&lt;/expression&gt; is positive, ...</td>\n",
       "      <td>3+5=-3x+5+5</td>\n",
       "    </tr>\n",
       "    <tr>\n",
       "      <th>43</th>\n",
       "      <td>-6=5+(-7x)</td>\n",
       "      <td>ADD_SIDE</td>\n",
       "      <td>Since &lt;expression&gt;5&lt;/expression&gt; is positive, ...</td>\n",
       "      <td>-6+5=5+(-7x)+5</td>\n",
       "    </tr>\n",
       "    <tr>\n",
       "      <th>60</th>\n",
       "      <td>5+(-6y)=1</td>\n",
       "      <td>ADD_SIDE</td>\n",
       "      <td>Since &lt;expression&gt;5&lt;/expression&gt; is positive, ...</td>\n",
       "      <td>5+(-6y)+5=1+5</td>\n",
       "    </tr>\n",
       "  </tbody>\n",
       "</table>\n",
       "</div>"
      ],
      "text/plain": [
       "           eq1    action                                           Feedback  \\\n",
       "41     3=-3x+5  ADD_SIDE  Since <expression>5</expression> is positive, ...   \n",
       "43  -6=5+(-7x)  ADD_SIDE  Since <expression>5</expression> is positive, ...   \n",
       "60   5+(-6y)=1  ADD_SIDE  Since <expression>5</expression> is positive, ...   \n",
       "\n",
       "               eq2  \n",
       "41     3+5=-3x+5+5  \n",
       "43  -6+5=5+(-7x)+5  \n",
       "60   5+(-6y)+5=1+5  "
      ]
     },
     "metadata": {},
     "output_type": "display_data"
    },
    {
     "data": {
      "text/markdown": [
       "---"
      ],
      "text/plain": [
       "<IPython.core.display.Markdown object>"
      ]
     },
     "metadata": {},
     "output_type": "display_data"
    },
    {
     "data": {
      "text/markdown": [
       "### Label Name: ISOLATE_HINT"
      ],
      "text/plain": [
       "<IPython.core.display.Markdown object>"
      ]
     },
     "metadata": {},
     "output_type": "display_data"
    },
    {
     "data": {
      "text/html": [
       "<div>\n",
       "<style scoped>\n",
       "    .dataframe tbody tr th:only-of-type {\n",
       "        vertical-align: middle;\n",
       "    }\n",
       "\n",
       "    .dataframe tbody tr th {\n",
       "        vertical-align: top;\n",
       "    }\n",
       "\n",
       "    .dataframe thead th {\n",
       "        text-align: right;\n",
       "    }\n",
       "</style>\n",
       "<table border=\"1\" class=\"dataframe\">\n",
       "  <thead>\n",
       "    <tr style=\"text-align: right;\">\n",
       "      <th></th>\n",
       "      <th>eq1</th>\n",
       "      <th>action</th>\n",
       "      <th>Feedback</th>\n",
       "      <th>eq2</th>\n",
       "    </tr>\n",
       "  </thead>\n",
       "  <tbody>\n",
       "    <tr>\n",
       "      <th>42</th>\n",
       "      <td>-5x=16</td>\n",
       "      <td>ADD_SIDE</td>\n",
       "      <td>In &lt;expression&gt;-5x&lt;/expression&gt;, x is multipli...</td>\n",
       "      <td>-5x+5=16+5</td>\n",
       "    </tr>\n",
       "    <tr>\n",
       "      <th>212</th>\n",
       "      <td>3=-7y</td>\n",
       "      <td>ADD_SIDE</td>\n",
       "      <td>In &lt;expression&gt;-7y&lt;/expression&gt;, y is multipli...</td>\n",
       "      <td>3+7=-7y+7</td>\n",
       "    </tr>\n",
       "    <tr>\n",
       "      <th>214</th>\n",
       "      <td>3=-7y</td>\n",
       "      <td>ADD_SIDE</td>\n",
       "      <td>In &lt;expression&gt;-7y&lt;/expression&gt;, y is multipli...</td>\n",
       "      <td>3+7=-7y+7</td>\n",
       "    </tr>\n",
       "  </tbody>\n",
       "</table>\n",
       "</div>"
      ],
      "text/plain": [
       "        eq1    action                                           Feedback  \\\n",
       "42   -5x=16  ADD_SIDE  In <expression>-5x</expression>, x is multipli...   \n",
       "212   3=-7y  ADD_SIDE  In <expression>-7y</expression>, y is multipli...   \n",
       "214   3=-7y  ADD_SIDE  In <expression>-7y</expression>, y is multipli...   \n",
       "\n",
       "            eq2  \n",
       "42   -5x+5=16+5  \n",
       "212   3+7=-7y+7  \n",
       "214   3+7=-7y+7  "
      ]
     },
     "metadata": {},
     "output_type": "display_data"
    },
    {
     "data": {
      "text/markdown": [
       "---"
      ],
      "text/plain": [
       "<IPython.core.display.Markdown object>"
      ]
     },
     "metadata": {},
     "output_type": "display_data"
    },
    {
     "data": {
      "text/markdown": [
       "### Label Name: EXPRESSION_NOT_EQUIVALENT"
      ],
      "text/plain": [
       "<IPython.core.display.Markdown object>"
      ]
     },
     "metadata": {},
     "output_type": "display_data"
    },
    {
     "data": {
      "text/html": [
       "<div>\n",
       "<style scoped>\n",
       "    .dataframe tbody tr th:only-of-type {\n",
       "        vertical-align: middle;\n",
       "    }\n",
       "\n",
       "    .dataframe tbody tr th {\n",
       "        vertical-align: top;\n",
       "    }\n",
       "\n",
       "    .dataframe thead th {\n",
       "        text-align: right;\n",
       "    }\n",
       "</style>\n",
       "<table border=\"1\" class=\"dataframe\">\n",
       "  <thead>\n",
       "    <tr style=\"text-align: right;\">\n",
       "      <th></th>\n",
       "      <th>eq1</th>\n",
       "      <th>action</th>\n",
       "      <th>Feedback</th>\n",
       "      <th>eq2</th>\n",
       "    </tr>\n",
       "  </thead>\n",
       "  <tbody>\n",
       "    <tr>\n",
       "      <th>47</th>\n",
       "      <td>y=-2/-5</td>\n",
       "      <td>COMBINE_MUL</td>\n",
       "      <td>This expression is not equivalent to the fract...</td>\n",
       "      <td>y=2-5</td>\n",
       "    </tr>\n",
       "    <tr>\n",
       "      <th>48</th>\n",
       "      <td>y=-2/-5</td>\n",
       "      <td>COMBINE_MUL</td>\n",
       "      <td>This expression is not equivalent to the fract...</td>\n",
       "      <td>y=-2/1</td>\n",
       "    </tr>\n",
       "    <tr>\n",
       "      <th>49</th>\n",
       "      <td>y=-2/-5</td>\n",
       "      <td>COMBINE_MUL</td>\n",
       "      <td>This expression is not equivalent to the fract...</td>\n",
       "      <td>y=-2+-5/1</td>\n",
       "    </tr>\n",
       "  </tbody>\n",
       "</table>\n",
       "</div>"
      ],
      "text/plain": [
       "        eq1       action                                           Feedback  \\\n",
       "47  y=-2/-5  COMBINE_MUL  This expression is not equivalent to the fract...   \n",
       "48  y=-2/-5  COMBINE_MUL  This expression is not equivalent to the fract...   \n",
       "49  y=-2/-5  COMBINE_MUL  This expression is not equivalent to the fract...   \n",
       "\n",
       "          eq2  \n",
       "47      y=2-5  \n",
       "48     y=-2/1  \n",
       "49  y=-2+-5/1  "
      ]
     },
     "metadata": {},
     "output_type": "display_data"
    },
    {
     "data": {
      "text/markdown": [
       "---"
      ],
      "text/plain": [
       "<IPython.core.display.Markdown object>"
      ]
     },
     "metadata": {},
     "output_type": "display_data"
    },
    {
     "data": {
      "text/markdown": [
       "### Label Name: ADD_TO_REMOVE"
      ],
      "text/plain": [
       "<IPython.core.display.Markdown object>"
      ]
     },
     "metadata": {},
     "output_type": "display_data"
    },
    {
     "data": {
      "text/html": [
       "<div>\n",
       "<style scoped>\n",
       "    .dataframe tbody tr th:only-of-type {\n",
       "        vertical-align: middle;\n",
       "    }\n",
       "\n",
       "    .dataframe tbody tr th {\n",
       "        vertical-align: top;\n",
       "    }\n",
       "\n",
       "    .dataframe thead th {\n",
       "        text-align: right;\n",
       "    }\n",
       "</style>\n",
       "<table border=\"1\" class=\"dataframe\">\n",
       "  <thead>\n",
       "    <tr style=\"text-align: right;\">\n",
       "      <th></th>\n",
       "      <th>eq1</th>\n",
       "      <th>action</th>\n",
       "      <th>Feedback</th>\n",
       "      <th>eq2</th>\n",
       "    </tr>\n",
       "  </thead>\n",
       "  <tbody>\n",
       "    <tr>\n",
       "      <th>51</th>\n",
       "      <td>-10y+(-8)=5</td>\n",
       "      <td>SUB_SIDE</td>\n",
       "      <td>Since &lt;expression&gt;-8&lt;/expression&gt; is negative,...</td>\n",
       "      <td>-10y+(-8)-8=5-8</td>\n",
       "    </tr>\n",
       "    <tr>\n",
       "      <th>52</th>\n",
       "      <td>-10y+(-8)=5</td>\n",
       "      <td>SUB_SIDE</td>\n",
       "      <td>Since &lt;expression&gt;-8&lt;/expression&gt; is negative,...</td>\n",
       "      <td>-10y+(-8)-8=5-8</td>\n",
       "    </tr>\n",
       "    <tr>\n",
       "      <th>53</th>\n",
       "      <td>-10y+(-8)=5</td>\n",
       "      <td>SUB_SIDE</td>\n",
       "      <td>Since &lt;expression&gt;-8&lt;/expression&gt; is negative,...</td>\n",
       "      <td>-10y+(-8)-8=5-8</td>\n",
       "    </tr>\n",
       "  </tbody>\n",
       "</table>\n",
       "</div>"
      ],
      "text/plain": [
       "            eq1    action                                           Feedback  \\\n",
       "51  -10y+(-8)=5  SUB_SIDE  Since <expression>-8</expression> is negative,...   \n",
       "52  -10y+(-8)=5  SUB_SIDE  Since <expression>-8</expression> is negative,...   \n",
       "53  -10y+(-8)=5  SUB_SIDE  Since <expression>-8</expression> is negative,...   \n",
       "\n",
       "                eq2  \n",
       "51  -10y+(-8)-8=5-8  \n",
       "52  -10y+(-8)-8=5-8  \n",
       "53  -10y+(-8)-8=5-8  "
      ]
     },
     "metadata": {},
     "output_type": "display_data"
    },
    {
     "data": {
      "text/markdown": [
       "---"
      ],
      "text/plain": [
       "<IPython.core.display.Markdown object>"
      ]
     },
     "metadata": {},
     "output_type": "display_data"
    },
    {
     "data": {
      "text/markdown": [
       "### Label Name: DIVIDE_TO_ISOLATE"
      ],
      "text/plain": [
       "<IPython.core.display.Markdown object>"
      ]
     },
     "metadata": {},
     "output_type": "display_data"
    },
    {
     "data": {
      "text/html": [
       "<div>\n",
       "<style scoped>\n",
       "    .dataframe tbody tr th:only-of-type {\n",
       "        vertical-align: middle;\n",
       "    }\n",
       "\n",
       "    .dataframe tbody tr th {\n",
       "        vertical-align: top;\n",
       "    }\n",
       "\n",
       "    .dataframe thead th {\n",
       "        text-align: right;\n",
       "    }\n",
       "</style>\n",
       "<table border=\"1\" class=\"dataframe\">\n",
       "  <thead>\n",
       "    <tr style=\"text-align: right;\">\n",
       "      <th></th>\n",
       "      <th>eq1</th>\n",
       "      <th>action</th>\n",
       "      <th>Feedback</th>\n",
       "      <th>eq2</th>\n",
       "    </tr>\n",
       "  </thead>\n",
       "  <tbody>\n",
       "    <tr>\n",
       "      <th>54</th>\n",
       "      <td>-10y=13</td>\n",
       "      <td>DIV_SIDE</td>\n",
       "      <td>Dividing anything by itself will leave 1. If y...</td>\n",
       "      <td>-10y/-10y=13/-10y</td>\n",
       "    </tr>\n",
       "    <tr>\n",
       "      <th>56</th>\n",
       "      <td>7y=-4</td>\n",
       "      <td>DIV_SIDE</td>\n",
       "      <td>Dividing anything by itself will leave 1. If y...</td>\n",
       "      <td>7y/7y=-4/7y</td>\n",
       "    </tr>\n",
       "    <tr>\n",
       "      <th>99</th>\n",
       "      <td>-x=-9</td>\n",
       "      <td>DIV_SIDE</td>\n",
       "      <td>Dividing anything by itself will leave 1. If y...</td>\n",
       "      <td>-x/-x=-9/-x</td>\n",
       "    </tr>\n",
       "  </tbody>\n",
       "</table>\n",
       "</div>"
      ],
      "text/plain": [
       "        eq1    action                                           Feedback  \\\n",
       "54  -10y=13  DIV_SIDE  Dividing anything by itself will leave 1. If y...   \n",
       "56    7y=-4  DIV_SIDE  Dividing anything by itself will leave 1. If y...   \n",
       "99    -x=-9  DIV_SIDE  Dividing anything by itself will leave 1. If y...   \n",
       "\n",
       "                  eq2  \n",
       "54  -10y/-10y=13/-10y  \n",
       "56        7y/7y=-4/7y  \n",
       "99        -x/-x=-9/-x  "
      ]
     },
     "metadata": {},
     "output_type": "display_data"
    },
    {
     "data": {
      "text/markdown": [
       "---"
      ],
      "text/plain": [
       "<IPython.core.display.Markdown object>"
      ]
     },
     "metadata": {},
     "output_type": "display_data"
    },
    {
     "data": {
      "text/markdown": [
       "### Label Name: MULTIPLY_TO_SIMPLIFY"
      ],
      "text/plain": [
       "<IPython.core.display.Markdown object>"
      ]
     },
     "metadata": {},
     "output_type": "display_data"
    },
    {
     "data": {
      "text/html": [
       "<div>\n",
       "<style scoped>\n",
       "    .dataframe tbody tr th:only-of-type {\n",
       "        vertical-align: middle;\n",
       "    }\n",
       "\n",
       "    .dataframe tbody tr th {\n",
       "        vertical-align: top;\n",
       "    }\n",
       "\n",
       "    .dataframe thead th {\n",
       "        text-align: right;\n",
       "    }\n",
       "</style>\n",
       "<table border=\"1\" class=\"dataframe\">\n",
       "  <thead>\n",
       "    <tr style=\"text-align: right;\">\n",
       "      <th></th>\n",
       "      <th>eq1</th>\n",
       "      <th>action</th>\n",
       "      <th>Feedback</th>\n",
       "      <th>eq2</th>\n",
       "    </tr>\n",
       "  </thead>\n",
       "  <tbody>\n",
       "    <tr>\n",
       "      <th>111</th>\n",
       "      <td>y=-8/y*y</td>\n",
       "      <td>DIV_SIDE</td>\n",
       "      <td>Put the expression in its simplest form by per...</td>\n",
       "      <td>y/y=-8/y*y/y</td>\n",
       "    </tr>\n",
       "    <tr>\n",
       "      <th>112</th>\n",
       "      <td>y=-8/y*y</td>\n",
       "      <td>DIV_SIDE</td>\n",
       "      <td>Put the expression in its simplest form by per...</td>\n",
       "      <td>y/-y=-8/y*y/-y</td>\n",
       "    </tr>\n",
       "    <tr>\n",
       "      <th>165</th>\n",
       "      <td>-0.13321491=1x-0.50799289</td>\n",
       "      <td>DIV_SIDE</td>\n",
       "      <td>Put the expression in its simplest form by per...</td>\n",
       "      <td>-0.13321491/1=1x-0.50799289/1</td>\n",
       "    </tr>\n",
       "  </tbody>\n",
       "</table>\n",
       "</div>"
      ],
      "text/plain": [
       "                           eq1    action  \\\n",
       "111                   y=-8/y*y  DIV_SIDE   \n",
       "112                   y=-8/y*y  DIV_SIDE   \n",
       "165  -0.13321491=1x-0.50799289  DIV_SIDE   \n",
       "\n",
       "                                              Feedback  \\\n",
       "111  Put the expression in its simplest form by per...   \n",
       "112  Put the expression in its simplest form by per...   \n",
       "165  Put the expression in its simplest form by per...   \n",
       "\n",
       "                               eq2  \n",
       "111                   y/y=-8/y*y/y  \n",
       "112                 y/-y=-8/y*y/-y  \n",
       "165  -0.13321491/1=1x-0.50799289/1  "
      ]
     },
     "metadata": {},
     "output_type": "display_data"
    },
    {
     "data": {
      "text/markdown": [
       "---"
      ],
      "text/plain": [
       "<IPython.core.display.Markdown object>"
      ]
     },
     "metadata": {},
     "output_type": "display_data"
    }
   ],
   "source": [
    "# Display three examples for each unique label\n",
    "for label in unique_labels:\n",
    "    display(Markdown(f\"### Label Name: {label}\"))\n",
    "\n",
    "    # Filter the DataFrame for the current label and display up to three examples\n",
    "    examples = df[df['Label Name'] == label].head(3)\n",
    "\n",
    "    # Display the examples in a table format, selecting relevant columns\n",
    "    display(examples[['eq1', 'action', 'Feedback', 'eq2']])\n",
    "\n",
    "    display(Markdown(\"---\"))"
   ]
  },
  {
   "cell_type": "code",
   "execution_count": null,
   "metadata": {},
   "outputs": [],
   "source": []
  }
 ],
 "metadata": {
  "kernelspec": {
   "display_name": "MLenv",
   "language": "python",
   "name": "python3"
  },
  "language_info": {
   "codemirror_mode": {
    "name": "ipython",
    "version": 3
   },
   "file_extension": ".py",
   "mimetype": "text/x-python",
   "name": "python",
   "nbconvert_exporter": "python",
   "pygments_lexer": "ipython3",
   "version": "3.11.4"
  }
 },
 "nbformat": 4,
 "nbformat_minor": 2
}
